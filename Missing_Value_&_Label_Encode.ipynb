{
  "nbformat": 4,
  "nbformat_minor": 0,
  "metadata": {
    "colab": {
      "provenance": [],
      "mount_file_id": "1oJtdNsRyN3HY7tYYSGQ2E5MOXQ2HoYxH",
      "authorship_tag": "ABX9TyP59S5HOLkd3fOZQcLQ8yDU",
      "include_colab_link": true
    },
    "kernelspec": {
      "name": "python3",
      "display_name": "Python 3"
    },
    "language_info": {
      "name": "python"
    }
  },
  "cells": [
    {
      "cell_type": "markdown",
      "metadata": {
        "id": "view-in-github",
        "colab_type": "text"
      },
      "source": [
        "<a href=\"https://colab.research.google.com/github/aweeeaja/Machine-learning/blob/main/Missing_Value_%26_Label_Encode.ipynb\" target=\"_parent\"><img src=\"https://colab.research.google.com/assets/colab-badge.svg\" alt=\"Open In Colab\"/></a>"
      ]
    },
    {
      "cell_type": "code",
      "execution_count": null,
      "metadata": {
        "id": "woOXrdoUGeqM"
      },
      "outputs": [],
      "source": [
        "import pandas as pd\n",
        "import numpy as np"
      ]
    },
    {
      "cell_type": "code",
      "source": [
        "# koneksi ke google drive\n",
        "from google.colab import drive\n",
        "drive.mount('/content/drive')"
      ],
      "metadata": {
        "id": "XehBdrmjW90K"
      },
      "execution_count": null,
      "outputs": []
    },
    {
      "cell_type": "markdown",
      "source": [
        "membaca file"
      ],
      "metadata": {
        "id": "2XKValOsH6re"
      }
    },
    {
      "cell_type": "code",
      "source": [
        "cf = pd.read_csv(\"/content/drive/MyDrive/Machine Learning/File csv dan database/apartemen2.csv\")\n",
        "print (cf)"
      ],
      "metadata": {
        "id": "F5j9dklKH8nN",
        "colab": {
          "base_uri": "https://localhost:8080/"
        },
        "outputId": "9a26abda-80da-4885-8114-79f8a53f5835"
      },
      "execution_count": null,
      "outputs": [
        {
          "output_type": "stream",
          "name": "stdout",
          "text": [
            "   KodeApt   Wilayah St_Milik Jum_Kamar\n",
            "0    104.0    Bantul        Y         3\n",
            "1    197.0    Sleman        N         3\n",
            "2      NaN    Sleman        N       NaN\n",
            "3    201.0     Yogya       12         1\n",
            "4    203.0     Yogya        Y         3\n",
            "5    207.0     Yogya        Y       NaN\n",
            "6      NaN  KL-Progo      NaN         2\n",
            "7    213.0    Bantul        Y        --\n",
            "8    215.0    Bantul        Y        na\n"
          ]
        }
      ]
    },
    {
      "cell_type": "code",
      "source": [
        "#  cek ukuran dataset\n",
        "cf.shape"
      ],
      "metadata": {
        "colab": {
          "base_uri": "https://localhost:8080/"
        },
        "id": "kK2XlcdULen9",
        "outputId": "ca70676c-0f5c-4e7f-b8c1-d993b91c48d8"
      },
      "execution_count": null,
      "outputs": [
        {
          "output_type": "execute_result",
          "data": {
            "text/plain": [
              "(9, 4)"
            ]
          },
          "metadata": {},
          "execution_count": 4
        }
      ]
    },
    {
      "cell_type": "markdown",
      "source": [
        "**cek adakah data null, jika ada berapa jumlah nya**"
      ],
      "metadata": {
        "id": "8rzRfhA1IkQx"
      }
    },
    {
      "cell_type": "code",
      "source": [
        "# cek missing value\n",
        "cf.isnull().values.any()"
      ],
      "metadata": {
        "id": "d3IySPEIIodg",
        "colab": {
          "base_uri": "https://localhost:8080/"
        },
        "outputId": "a5545644-f6cc-4c43-d34a-31d5ec26dd5c"
      },
      "execution_count": null,
      "outputs": [
        {
          "output_type": "execute_result",
          "data": {
            "text/plain": [
              "np.True_"
            ]
          },
          "metadata": {},
          "execution_count": 5
        }
      ]
    },
    {
      "cell_type": "code",
      "source": [
        "# banyaknya missing value\n",
        "cf.isnull().sum().sum()"
      ],
      "metadata": {
        "id": "0PKydjjTJCJY",
        "colab": {
          "base_uri": "https://localhost:8080/"
        },
        "outputId": "f9f27bc0-52dc-447d-a115-c3d4cd9ef5ac"
      },
      "execution_count": null,
      "outputs": [
        {
          "output_type": "execute_result",
          "data": {
            "text/plain": [
              "np.int64(5)"
            ]
          },
          "metadata": {},
          "execution_count": 6
        }
      ]
    },
    {
      "cell_type": "code",
      "source": [
        "# menghapus missing value\n",
        "dataset_clean = cf.dropna()\n",
        "print ('Ukuran dataset clean', dataset_clean)"
      ],
      "metadata": {
        "id": "tDHNNRluMEnu",
        "colab": {
          "base_uri": "https://localhost:8080/"
        },
        "outputId": "3dbc4b3a-0d54-49af-d5b1-d1d3852e2904"
      },
      "execution_count": null,
      "outputs": [
        {
          "output_type": "stream",
          "name": "stdout",
          "text": [
            "Ukuran dataset clean    KodeApt Wilayah St_Milik Jum_Kamar\n",
            "0    104.0  Bantul        Y         3\n",
            "1    197.0  Sleman        N         3\n",
            "3    201.0   Yogya       12         1\n",
            "4    203.0   Yogya        Y         3\n",
            "7    213.0  Bantul        Y        --\n",
            "8    215.0  Bantul        Y        na\n"
          ]
        }
      ]
    },
    {
      "cell_type": "code",
      "source": [
        "# melihat kolom kodeapt\n",
        "cf[\"KodeApt\"].isnull()"
      ],
      "metadata": {
        "id": "1HsS4G6SKa9P",
        "colab": {
          "base_uri": "https://localhost:8080/",
          "height": 366
        },
        "outputId": "c77c2100-b3b7-4616-8ec1-53c4e903e873"
      },
      "execution_count": null,
      "outputs": [
        {
          "output_type": "execute_result",
          "data": {
            "text/plain": [
              "0    False\n",
              "1    False\n",
              "2     True\n",
              "3    False\n",
              "4    False\n",
              "5    False\n",
              "6     True\n",
              "7    False\n",
              "8    False\n",
              "Name: KodeApt, dtype: bool"
            ],
            "text/html": [
              "<div>\n",
              "<style scoped>\n",
              "    .dataframe tbody tr th:only-of-type {\n",
              "        vertical-align: middle;\n",
              "    }\n",
              "\n",
              "    .dataframe tbody tr th {\n",
              "        vertical-align: top;\n",
              "    }\n",
              "\n",
              "    .dataframe thead th {\n",
              "        text-align: right;\n",
              "    }\n",
              "</style>\n",
              "<table border=\"1\" class=\"dataframe\">\n",
              "  <thead>\n",
              "    <tr style=\"text-align: right;\">\n",
              "      <th></th>\n",
              "      <th>KodeApt</th>\n",
              "    </tr>\n",
              "  </thead>\n",
              "  <tbody>\n",
              "    <tr>\n",
              "      <th>0</th>\n",
              "      <td>False</td>\n",
              "    </tr>\n",
              "    <tr>\n",
              "      <th>1</th>\n",
              "      <td>False</td>\n",
              "    </tr>\n",
              "    <tr>\n",
              "      <th>2</th>\n",
              "      <td>True</td>\n",
              "    </tr>\n",
              "    <tr>\n",
              "      <th>3</th>\n",
              "      <td>False</td>\n",
              "    </tr>\n",
              "    <tr>\n",
              "      <th>4</th>\n",
              "      <td>False</td>\n",
              "    </tr>\n",
              "    <tr>\n",
              "      <th>5</th>\n",
              "      <td>False</td>\n",
              "    </tr>\n",
              "    <tr>\n",
              "      <th>6</th>\n",
              "      <td>True</td>\n",
              "    </tr>\n",
              "    <tr>\n",
              "      <th>7</th>\n",
              "      <td>False</td>\n",
              "    </tr>\n",
              "    <tr>\n",
              "      <th>8</th>\n",
              "      <td>False</td>\n",
              "    </tr>\n",
              "  </tbody>\n",
              "</table>\n",
              "</div><br><label><b>dtype:</b> bool</label>"
            ]
          },
          "metadata": {},
          "execution_count": 8
        }
      ]
    },
    {
      "cell_type": "code",
      "source": [
        "#melihat data pada kolom Jum_Kamar dan mencek data null pada kolom tersebut\n",
        "cf[\"Jum_Kamar\"]"
      ],
      "metadata": {
        "id": "wCsWCPU7LCLF",
        "colab": {
          "base_uri": "https://localhost:8080/",
          "height": 366
        },
        "outputId": "d4f653e5-0ea6-4cf4-de3d-6e55f49d4dd5"
      },
      "execution_count": null,
      "outputs": [
        {
          "output_type": "execute_result",
          "data": {
            "text/plain": [
              "0      3\n",
              "1      3\n",
              "2    NaN\n",
              "3      1\n",
              "4      3\n",
              "5    NaN\n",
              "6      2\n",
              "7     --\n",
              "8     na\n",
              "Name: Jum_Kamar, dtype: object"
            ],
            "text/html": [
              "<div>\n",
              "<style scoped>\n",
              "    .dataframe tbody tr th:only-of-type {\n",
              "        vertical-align: middle;\n",
              "    }\n",
              "\n",
              "    .dataframe tbody tr th {\n",
              "        vertical-align: top;\n",
              "    }\n",
              "\n",
              "    .dataframe thead th {\n",
              "        text-align: right;\n",
              "    }\n",
              "</style>\n",
              "<table border=\"1\" class=\"dataframe\">\n",
              "  <thead>\n",
              "    <tr style=\"text-align: right;\">\n",
              "      <th></th>\n",
              "      <th>Jum_Kamar</th>\n",
              "    </tr>\n",
              "  </thead>\n",
              "  <tbody>\n",
              "    <tr>\n",
              "      <th>0</th>\n",
              "      <td>3</td>\n",
              "    </tr>\n",
              "    <tr>\n",
              "      <th>1</th>\n",
              "      <td>3</td>\n",
              "    </tr>\n",
              "    <tr>\n",
              "      <th>2</th>\n",
              "      <td>NaN</td>\n",
              "    </tr>\n",
              "    <tr>\n",
              "      <th>3</th>\n",
              "      <td>1</td>\n",
              "    </tr>\n",
              "    <tr>\n",
              "      <th>4</th>\n",
              "      <td>3</td>\n",
              "    </tr>\n",
              "    <tr>\n",
              "      <th>5</th>\n",
              "      <td>NaN</td>\n",
              "    </tr>\n",
              "    <tr>\n",
              "      <th>6</th>\n",
              "      <td>2</td>\n",
              "    </tr>\n",
              "    <tr>\n",
              "      <th>7</th>\n",
              "      <td>--</td>\n",
              "    </tr>\n",
              "    <tr>\n",
              "      <th>8</th>\n",
              "      <td>na</td>\n",
              "    </tr>\n",
              "  </tbody>\n",
              "</table>\n",
              "</div><br><label><b>dtype:</b> object</label>"
            ]
          },
          "metadata": {},
          "execution_count": 9
        }
      ]
    },
    {
      "cell_type": "code",
      "source": [
        "cf[\"Jum_Kamar\"].isnull()"
      ],
      "metadata": {
        "id": "rKnBswgQMCx_",
        "colab": {
          "base_uri": "https://localhost:8080/",
          "height": 366
        },
        "outputId": "6ef302aa-e932-4513-fd6e-8fb568b7c978"
      },
      "execution_count": null,
      "outputs": [
        {
          "output_type": "execute_result",
          "data": {
            "text/plain": [
              "0    False\n",
              "1    False\n",
              "2     True\n",
              "3    False\n",
              "4    False\n",
              "5     True\n",
              "6    False\n",
              "7    False\n",
              "8    False\n",
              "Name: Jum_Kamar, dtype: bool"
            ],
            "text/html": [
              "<div>\n",
              "<style scoped>\n",
              "    .dataframe tbody tr th:only-of-type {\n",
              "        vertical-align: middle;\n",
              "    }\n",
              "\n",
              "    .dataframe tbody tr th {\n",
              "        vertical-align: top;\n",
              "    }\n",
              "\n",
              "    .dataframe thead th {\n",
              "        text-align: right;\n",
              "    }\n",
              "</style>\n",
              "<table border=\"1\" class=\"dataframe\">\n",
              "  <thead>\n",
              "    <tr style=\"text-align: right;\">\n",
              "      <th></th>\n",
              "      <th>Jum_Kamar</th>\n",
              "    </tr>\n",
              "  </thead>\n",
              "  <tbody>\n",
              "    <tr>\n",
              "      <th>0</th>\n",
              "      <td>False</td>\n",
              "    </tr>\n",
              "    <tr>\n",
              "      <th>1</th>\n",
              "      <td>False</td>\n",
              "    </tr>\n",
              "    <tr>\n",
              "      <th>2</th>\n",
              "      <td>True</td>\n",
              "    </tr>\n",
              "    <tr>\n",
              "      <th>3</th>\n",
              "      <td>False</td>\n",
              "    </tr>\n",
              "    <tr>\n",
              "      <th>4</th>\n",
              "      <td>False</td>\n",
              "    </tr>\n",
              "    <tr>\n",
              "      <th>5</th>\n",
              "      <td>True</td>\n",
              "    </tr>\n",
              "    <tr>\n",
              "      <th>6</th>\n",
              "      <td>False</td>\n",
              "    </tr>\n",
              "    <tr>\n",
              "      <th>7</th>\n",
              "      <td>False</td>\n",
              "    </tr>\n",
              "    <tr>\n",
              "      <th>8</th>\n",
              "      <td>False</td>\n",
              "    </tr>\n",
              "  </tbody>\n",
              "</table>\n",
              "</div><br><label><b>dtype:</b> bool</label>"
            ]
          },
          "metadata": {},
          "execution_count": 10
        }
      ]
    },
    {
      "cell_type": "code",
      "source": [
        "# membuat daftar missing value dan cek kembali data pada kolom Jum_Kamar no 7 dan 8 apa artinya\n",
        "# membuat daftar missing values\n",
        "missing_values =[\"n/a\",\"na\",\"--\"]\n",
        "cf = pd.read_csv(\"//content/drive/MyDrive/Machine Learning/File csv dan database/apartemen2.csv\", na_values = missing_values)\n",
        "cf[\"Jum_Kamar\"]"
      ],
      "metadata": {
        "id": "pIpR1SFFPI66",
        "colab": {
          "base_uri": "https://localhost:8080/",
          "height": 366
        },
        "outputId": "8e80c801-957c-45de-d7b9-047de4cf0c7c"
      },
      "execution_count": null,
      "outputs": [
        {
          "output_type": "execute_result",
          "data": {
            "text/plain": [
              "0    3.0\n",
              "1    3.0\n",
              "2    NaN\n",
              "3    1.0\n",
              "4    3.0\n",
              "5    NaN\n",
              "6    2.0\n",
              "7    NaN\n",
              "8    NaN\n",
              "Name: Jum_Kamar, dtype: float64"
            ],
            "text/html": [
              "<div>\n",
              "<style scoped>\n",
              "    .dataframe tbody tr th:only-of-type {\n",
              "        vertical-align: middle;\n",
              "    }\n",
              "\n",
              "    .dataframe tbody tr th {\n",
              "        vertical-align: top;\n",
              "    }\n",
              "\n",
              "    .dataframe thead th {\n",
              "        text-align: right;\n",
              "    }\n",
              "</style>\n",
              "<table border=\"1\" class=\"dataframe\">\n",
              "  <thead>\n",
              "    <tr style=\"text-align: right;\">\n",
              "      <th></th>\n",
              "      <th>Jum_Kamar</th>\n",
              "    </tr>\n",
              "  </thead>\n",
              "  <tbody>\n",
              "    <tr>\n",
              "      <th>0</th>\n",
              "      <td>3.0</td>\n",
              "    </tr>\n",
              "    <tr>\n",
              "      <th>1</th>\n",
              "      <td>3.0</td>\n",
              "    </tr>\n",
              "    <tr>\n",
              "      <th>2</th>\n",
              "      <td>NaN</td>\n",
              "    </tr>\n",
              "    <tr>\n",
              "      <th>3</th>\n",
              "      <td>1.0</td>\n",
              "    </tr>\n",
              "    <tr>\n",
              "      <th>4</th>\n",
              "      <td>3.0</td>\n",
              "    </tr>\n",
              "    <tr>\n",
              "      <th>5</th>\n",
              "      <td>NaN</td>\n",
              "    </tr>\n",
              "    <tr>\n",
              "      <th>6</th>\n",
              "      <td>2.0</td>\n",
              "    </tr>\n",
              "    <tr>\n",
              "      <th>7</th>\n",
              "      <td>NaN</td>\n",
              "    </tr>\n",
              "    <tr>\n",
              "      <th>8</th>\n",
              "      <td>NaN</td>\n",
              "    </tr>\n",
              "  </tbody>\n",
              "</table>\n",
              "</div><br><label><b>dtype:</b> float64</label>"
            ]
          },
          "metadata": {},
          "execution_count": 11
        }
      ]
    },
    {
      "cell_type": "code",
      "source": [
        "cf[\"Jum_Kamar\"].isnull()"
      ],
      "metadata": {
        "id": "Enb9GYmgQ9Yi",
        "colab": {
          "base_uri": "https://localhost:8080/",
          "height": 366
        },
        "outputId": "e738d160-3d7f-4dcb-ce3e-47d7a673945d"
      },
      "execution_count": null,
      "outputs": [
        {
          "output_type": "execute_result",
          "data": {
            "text/plain": [
              "0    False\n",
              "1    False\n",
              "2     True\n",
              "3    False\n",
              "4    False\n",
              "5     True\n",
              "6    False\n",
              "7     True\n",
              "8     True\n",
              "Name: Jum_Kamar, dtype: bool"
            ],
            "text/html": [
              "<div>\n",
              "<style scoped>\n",
              "    .dataframe tbody tr th:only-of-type {\n",
              "        vertical-align: middle;\n",
              "    }\n",
              "\n",
              "    .dataframe tbody tr th {\n",
              "        vertical-align: top;\n",
              "    }\n",
              "\n",
              "    .dataframe thead th {\n",
              "        text-align: right;\n",
              "    }\n",
              "</style>\n",
              "<table border=\"1\" class=\"dataframe\">\n",
              "  <thead>\n",
              "    <tr style=\"text-align: right;\">\n",
              "      <th></th>\n",
              "      <th>Jum_Kamar</th>\n",
              "    </tr>\n",
              "  </thead>\n",
              "  <tbody>\n",
              "    <tr>\n",
              "      <th>0</th>\n",
              "      <td>False</td>\n",
              "    </tr>\n",
              "    <tr>\n",
              "      <th>1</th>\n",
              "      <td>False</td>\n",
              "    </tr>\n",
              "    <tr>\n",
              "      <th>2</th>\n",
              "      <td>True</td>\n",
              "    </tr>\n",
              "    <tr>\n",
              "      <th>3</th>\n",
              "      <td>False</td>\n",
              "    </tr>\n",
              "    <tr>\n",
              "      <th>4</th>\n",
              "      <td>False</td>\n",
              "    </tr>\n",
              "    <tr>\n",
              "      <th>5</th>\n",
              "      <td>True</td>\n",
              "    </tr>\n",
              "    <tr>\n",
              "      <th>6</th>\n",
              "      <td>False</td>\n",
              "    </tr>\n",
              "    <tr>\n",
              "      <th>7</th>\n",
              "      <td>True</td>\n",
              "    </tr>\n",
              "    <tr>\n",
              "      <th>8</th>\n",
              "      <td>True</td>\n",
              "    </tr>\n",
              "  </tbody>\n",
              "</table>\n",
              "</div><br><label><b>dtype:</b> bool</label>"
            ]
          },
          "metadata": {},
          "execution_count": 12
        }
      ]
    },
    {
      "cell_type": "code",
      "source": [
        "# membuat daftar missing value dan cek data pada kolom St_Milik (no 3 apa artinya)\n",
        "cf[\"St_Milik\"]"
      ],
      "metadata": {
        "id": "Di-Mok-eRMYd",
        "colab": {
          "base_uri": "https://localhost:8080/",
          "height": 366
        },
        "outputId": "75cf9edb-3b03-47d7-eb2d-4cf451b90623"
      },
      "execution_count": null,
      "outputs": [
        {
          "output_type": "execute_result",
          "data": {
            "text/plain": [
              "0      Y\n",
              "1      N\n",
              "2      N\n",
              "3     12\n",
              "4      Y\n",
              "5      Y\n",
              "6    NaN\n",
              "7      Y\n",
              "8      Y\n",
              "Name: St_Milik, dtype: object"
            ],
            "text/html": [
              "<div>\n",
              "<style scoped>\n",
              "    .dataframe tbody tr th:only-of-type {\n",
              "        vertical-align: middle;\n",
              "    }\n",
              "\n",
              "    .dataframe tbody tr th {\n",
              "        vertical-align: top;\n",
              "    }\n",
              "\n",
              "    .dataframe thead th {\n",
              "        text-align: right;\n",
              "    }\n",
              "</style>\n",
              "<table border=\"1\" class=\"dataframe\">\n",
              "  <thead>\n",
              "    <tr style=\"text-align: right;\">\n",
              "      <th></th>\n",
              "      <th>St_Milik</th>\n",
              "    </tr>\n",
              "  </thead>\n",
              "  <tbody>\n",
              "    <tr>\n",
              "      <th>0</th>\n",
              "      <td>Y</td>\n",
              "    </tr>\n",
              "    <tr>\n",
              "      <th>1</th>\n",
              "      <td>N</td>\n",
              "    </tr>\n",
              "    <tr>\n",
              "      <th>2</th>\n",
              "      <td>N</td>\n",
              "    </tr>\n",
              "    <tr>\n",
              "      <th>3</th>\n",
              "      <td>12</td>\n",
              "    </tr>\n",
              "    <tr>\n",
              "      <th>4</th>\n",
              "      <td>Y</td>\n",
              "    </tr>\n",
              "    <tr>\n",
              "      <th>5</th>\n",
              "      <td>Y</td>\n",
              "    </tr>\n",
              "    <tr>\n",
              "      <th>6</th>\n",
              "      <td>NaN</td>\n",
              "    </tr>\n",
              "    <tr>\n",
              "      <th>7</th>\n",
              "      <td>Y</td>\n",
              "    </tr>\n",
              "    <tr>\n",
              "      <th>8</th>\n",
              "      <td>Y</td>\n",
              "    </tr>\n",
              "  </tbody>\n",
              "</table>\n",
              "</div><br><label><b>dtype:</b> object</label>"
            ]
          },
          "metadata": {},
          "execution_count": 13
        }
      ]
    },
    {
      "cell_type": "code",
      "source": [
        "cf[\"St_Milik\"].isnull()"
      ],
      "metadata": {
        "id": "uAR4rLzxSNeJ",
        "colab": {
          "base_uri": "https://localhost:8080/",
          "height": 366
        },
        "outputId": "232dc4d8-3cfa-42fe-a5c6-85921c78ed47"
      },
      "execution_count": null,
      "outputs": [
        {
          "output_type": "execute_result",
          "data": {
            "text/plain": [
              "0    False\n",
              "1    False\n",
              "2    False\n",
              "3    False\n",
              "4    False\n",
              "5    False\n",
              "6     True\n",
              "7    False\n",
              "8    False\n",
              "Name: St_Milik, dtype: bool"
            ],
            "text/html": [
              "<div>\n",
              "<style scoped>\n",
              "    .dataframe tbody tr th:only-of-type {\n",
              "        vertical-align: middle;\n",
              "    }\n",
              "\n",
              "    .dataframe tbody tr th {\n",
              "        vertical-align: top;\n",
              "    }\n",
              "\n",
              "    .dataframe thead th {\n",
              "        text-align: right;\n",
              "    }\n",
              "</style>\n",
              "<table border=\"1\" class=\"dataframe\">\n",
              "  <thead>\n",
              "    <tr style=\"text-align: right;\">\n",
              "      <th></th>\n",
              "      <th>St_Milik</th>\n",
              "    </tr>\n",
              "  </thead>\n",
              "  <tbody>\n",
              "    <tr>\n",
              "      <th>0</th>\n",
              "      <td>False</td>\n",
              "    </tr>\n",
              "    <tr>\n",
              "      <th>1</th>\n",
              "      <td>False</td>\n",
              "    </tr>\n",
              "    <tr>\n",
              "      <th>2</th>\n",
              "      <td>False</td>\n",
              "    </tr>\n",
              "    <tr>\n",
              "      <th>3</th>\n",
              "      <td>False</td>\n",
              "    </tr>\n",
              "    <tr>\n",
              "      <th>4</th>\n",
              "      <td>False</td>\n",
              "    </tr>\n",
              "    <tr>\n",
              "      <th>5</th>\n",
              "      <td>False</td>\n",
              "    </tr>\n",
              "    <tr>\n",
              "      <th>6</th>\n",
              "      <td>True</td>\n",
              "    </tr>\n",
              "    <tr>\n",
              "      <th>7</th>\n",
              "      <td>False</td>\n",
              "    </tr>\n",
              "    <tr>\n",
              "      <th>8</th>\n",
              "      <td>False</td>\n",
              "    </tr>\n",
              "  </tbody>\n",
              "</table>\n",
              "</div><br><label><b>dtype:</b> bool</label>"
            ]
          },
          "metadata": {},
          "execution_count": 14
        }
      ]
    },
    {
      "cell_type": "code",
      "source": [
        "# hitung kembali jumlah missing vallue pada setiap kolom\n",
        "cf.isnull().sum()"
      ],
      "metadata": {
        "id": "HKVcp5WQSQyO",
        "colab": {
          "base_uri": "https://localhost:8080/",
          "height": 209
        },
        "outputId": "c4994e03-5dcd-4c3e-e03e-9076ddaabf84"
      },
      "execution_count": null,
      "outputs": [
        {
          "output_type": "execute_result",
          "data": {
            "text/plain": [
              "KodeApt      2\n",
              "Wilayah      0\n",
              "St_Milik     1\n",
              "Jum_Kamar    4\n",
              "dtype: int64"
            ],
            "text/html": [
              "<div>\n",
              "<style scoped>\n",
              "    .dataframe tbody tr th:only-of-type {\n",
              "        vertical-align: middle;\n",
              "    }\n",
              "\n",
              "    .dataframe tbody tr th {\n",
              "        vertical-align: top;\n",
              "    }\n",
              "\n",
              "    .dataframe thead th {\n",
              "        text-align: right;\n",
              "    }\n",
              "</style>\n",
              "<table border=\"1\" class=\"dataframe\">\n",
              "  <thead>\n",
              "    <tr style=\"text-align: right;\">\n",
              "      <th></th>\n",
              "      <th>0</th>\n",
              "    </tr>\n",
              "  </thead>\n",
              "  <tbody>\n",
              "    <tr>\n",
              "      <th>KodeApt</th>\n",
              "      <td>2</td>\n",
              "    </tr>\n",
              "    <tr>\n",
              "      <th>Wilayah</th>\n",
              "      <td>0</td>\n",
              "    </tr>\n",
              "    <tr>\n",
              "      <th>St_Milik</th>\n",
              "      <td>1</td>\n",
              "    </tr>\n",
              "    <tr>\n",
              "      <th>Jum_Kamar</th>\n",
              "      <td>4</td>\n",
              "    </tr>\n",
              "  </tbody>\n",
              "</table>\n",
              "</div><br><label><b>dtype:</b> int64</label>"
            ]
          },
          "metadata": {},
          "execution_count": 15
        }
      ]
    },
    {
      "cell_type": "code",
      "source": [
        "# banyaknya missing value\n",
        "cf.isnull().sum().sum()"
      ],
      "metadata": {
        "id": "I3FTe6UQSlgR",
        "colab": {
          "base_uri": "https://localhost:8080/"
        },
        "outputId": "85faae90-b98c-4811-cc73-f77a26040ab1"
      },
      "execution_count": null,
      "outputs": [
        {
          "output_type": "execute_result",
          "data": {
            "text/plain": [
              "np.int64(7)"
            ]
          },
          "metadata": {},
          "execution_count": 16
        }
      ]
    },
    {
      "cell_type": "code",
      "source": [
        "# mengisi missing value dengan angka pada lokasi yang spesifik\n",
        "cf[\"KodeApt\"].fillna(837,inplace=True)\n",
        "print(cf.KodeApt)\n",
        "#mengisi pada lokasi spesifik\n",
        "cf.loc[2,'KodeApt'] = 8837\n",
        "print(cf.KodeApt)"
      ],
      "metadata": {
        "id": "ElVOER04S7OQ",
        "colab": {
          "base_uri": "https://localhost:8080/"
        },
        "outputId": "9573dda4-0060-40d6-f1e3-35437a501344"
      },
      "execution_count": null,
      "outputs": [
        {
          "output_type": "stream",
          "name": "stdout",
          "text": [
            "0    104.0\n",
            "1    197.0\n",
            "2    837.0\n",
            "3    201.0\n",
            "4    203.0\n",
            "5    207.0\n",
            "6    837.0\n",
            "7    213.0\n",
            "8    215.0\n",
            "Name: KodeApt, dtype: float64\n",
            "0     104.0\n",
            "1     197.0\n",
            "2    8837.0\n",
            "3     201.0\n",
            "4     203.0\n",
            "5     207.0\n",
            "6     837.0\n",
            "7     213.0\n",
            "8     215.0\n",
            "Name: KodeApt, dtype: float64\n"
          ]
        },
        {
          "output_type": "stream",
          "name": "stderr",
          "text": [
            "/tmp/ipython-input-3514147189.py:2: FutureWarning: A value is trying to be set on a copy of a DataFrame or Series through chained assignment using an inplace method.\n",
            "The behavior will change in pandas 3.0. This inplace method will never work because the intermediate object on which we are setting values always behaves as a copy.\n",
            "\n",
            "For example, when doing 'df[col].method(value, inplace=True)', try using 'df.method({col: value}, inplace=True)' or df[col] = df[col].method(value) instead, to perform the operation inplace on the original object.\n",
            "\n",
            "\n",
            "  cf[\"KodeApt\"].fillna(837,inplace=True)\n"
          ]
        }
      ]
    },
    {
      "cell_type": "code",
      "source": [
        "# mengganti nilai missing value\n",
        "# mengganti missing value dengan median\n",
        "median = cf[\"Jum_Kamar\"].median()\n",
        "cf[\"Jum_Kamar\"].fillna(median,inplace=True)\n",
        "print (cf.Jum_Kamar)"
      ],
      "metadata": {
        "id": "YJcrVOaiUufg",
        "colab": {
          "base_uri": "https://localhost:8080/"
        },
        "outputId": "f045ef30-8601-4374-e8ee-454291d41d90"
      },
      "execution_count": null,
      "outputs": [
        {
          "output_type": "stream",
          "name": "stdout",
          "text": [
            "0    3.0\n",
            "1    3.0\n",
            "2    3.0\n",
            "3    1.0\n",
            "4    3.0\n",
            "5    3.0\n",
            "6    2.0\n",
            "7    3.0\n",
            "8    3.0\n",
            "Name: Jum_Kamar, dtype: float64\n"
          ]
        },
        {
          "output_type": "stream",
          "name": "stderr",
          "text": [
            "/tmp/ipython-input-3199017625.py:4: FutureWarning: A value is trying to be set on a copy of a DataFrame or Series through chained assignment using an inplace method.\n",
            "The behavior will change in pandas 3.0. This inplace method will never work because the intermediate object on which we are setting values always behaves as a copy.\n",
            "\n",
            "For example, when doing 'df[col].method(value, inplace=True)', try using 'df.method({col: value}, inplace=True)' or df[col] = df[col].method(value) instead, to perform the operation inplace on the original object.\n",
            "\n",
            "\n",
            "  cf[\"Jum_Kamar\"].fillna(median,inplace=True)\n"
          ]
        }
      ]
    },
    {
      "cell_type": "code",
      "source": [
        "# melihat keseluruhan data\n",
        "print (cf)"
      ],
      "metadata": {
        "id": "pIJAgYQXVct3",
        "colab": {
          "base_uri": "https://localhost:8080/"
        },
        "outputId": "de0eb048-b854-4d6b-ed8a-da244f034790"
      },
      "execution_count": null,
      "outputs": [
        {
          "output_type": "stream",
          "name": "stdout",
          "text": [
            "   KodeApt   Wilayah St_Milik  Jum_Kamar\n",
            "0    104.0    Bantul        Y        3.0\n",
            "1    197.0    Sleman        N        3.0\n",
            "2   8837.0    Sleman        N        3.0\n",
            "3    201.0     Yogya       12        1.0\n",
            "4    203.0     Yogya        Y        3.0\n",
            "5    207.0     Yogya        Y        3.0\n",
            "6    837.0  KL-Progo      NaN        2.0\n",
            "7    213.0    Bantul        Y        3.0\n",
            "8    215.0    Bantul        Y        3.0\n"
          ]
        }
      ]
    },
    {
      "cell_type": "code",
      "source": [
        "# mengganti data non numeric pada lokasi yang spesifik\n",
        "# mengganti pada lokasi spesifik pada kolom St_Milik\n",
        "cf.loc[3, 'St_Milik'] = \"N\"\n",
        "cf.loc[6, 'St_Milik'] = \"Y\"\n",
        "print (cf)"
      ],
      "metadata": {
        "id": "hSH0NHaRVqAX",
        "colab": {
          "base_uri": "https://localhost:8080/"
        },
        "outputId": "a5bad8f9-6c8b-4478-809c-e1ea82e0700e"
      },
      "execution_count": null,
      "outputs": [
        {
          "output_type": "stream",
          "name": "stdout",
          "text": [
            "   KodeApt   Wilayah St_Milik  Jum_Kamar\n",
            "0    104.0    Bantul        Y        3.0\n",
            "1    197.0    Sleman        N        3.0\n",
            "2   8837.0    Sleman        N        3.0\n",
            "3    201.0     Yogya        N        1.0\n",
            "4    203.0     Yogya        Y        3.0\n",
            "5    207.0     Yogya        Y        3.0\n",
            "6    837.0  KL-Progo        Y        2.0\n",
            "7    213.0    Bantul        Y        3.0\n",
            "8    215.0    Bantul        Y        3.0\n"
          ]
        }
      ]
    },
    {
      "cell_type": "code",
      "source": [
        "#menyimpan file\n",
        "cf.to_csv(\"/content/apartemen_ok.csv\")"
      ],
      "metadata": {
        "id": "gDhWhFsCWcO3"
      },
      "execution_count": null,
      "outputs": []
    },
    {
      "cell_type": "code",
      "source": [
        "# mengubah data non numeric menjadi numeric\n",
        "# library\n",
        "from sklearn.preprocessing import LabelEncoder\n",
        "from pandas import DataFrame\n",
        "# coba mengosongkan cf dengan cara import ulang pandas\n",
        "import pandas as pd\n",
        "import numpy as np\n",
        "\n",
        "# baca file dataset\n",
        "cf = pd.read_csv(\"/content/apartemen_ok.csv\")\n",
        "\n",
        "# buat objek LabelEncoder sekali saja\n",
        "le = LabelEncoder()\n",
        "\n",
        "# loop tiap kolom\n",
        "for col in cf.columns:\n",
        "    if cf[col].dtypes == 'object':\n",
        "        cf[col] = le.fit_transform(cf[col].astype(str))\n",
        "\n",
        "print(cf.head(10))"
      ],
      "metadata": {
        "id": "3fvTGLC4XY2S",
        "colab": {
          "base_uri": "https://localhost:8080/"
        },
        "outputId": "34bc7f4a-5831-4699-8815-05462c83bdbb"
      },
      "execution_count": null,
      "outputs": [
        {
          "output_type": "stream",
          "name": "stdout",
          "text": [
            "   Unnamed: 0  KodeApt  Wilayah  St_Milik  Jum_Kamar\n",
            "0           0      104        0         1          3\n",
            "1           1      197        2         0          3\n",
            "2           2     8837        2         0          3\n",
            "3           3      201        3         0          1\n",
            "4           4      203        3         1          3\n",
            "5           5      207        3         1          3\n",
            "6           6      837        1         1          2\n",
            "7           7      213        0         1          3\n",
            "8           8      215        0         1          3\n"
          ]
        }
      ]
    },
    {
      "cell_type": "code",
      "source": [
        "cf.to_csv(\"/content/apartemen_numeric.csv\", header = True, index = False)"
      ],
      "metadata": {
        "id": "6n7abrfgaSgH"
      },
      "execution_count": null,
      "outputs": []
    }
  ]
}