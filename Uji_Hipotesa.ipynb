{
  "nbformat": 4,
  "nbformat_minor": 0,
  "metadata": {
    "colab": {
      "provenance": [],
      "mount_file_id": "17pewWhx9pUM5mCbQbbHaUcTZ7fAcxA4E",
      "authorship_tag": "ABX9TyMnCwM/2Sq6rkFgIdjW964x",
      "include_colab_link": true
    },
    "kernelspec": {
      "name": "python3",
      "display_name": "Python 3"
    },
    "language_info": {
      "name": "python"
    }
  },
  "cells": [
    {
      "cell_type": "markdown",
      "metadata": {
        "id": "view-in-github",
        "colab_type": "text"
      },
      "source": [
        "<a href=\"https://colab.research.google.com/github/aweeeaja/Machine-learning/blob/main/Uji_Hipotesa.ipynb\" target=\"_parent\"><img src=\"https://colab.research.google.com/assets/colab-badge.svg\" alt=\"Open In Colab\"/></a>"
      ]
    },
    {
      "cell_type": "code",
      "execution_count": null,
      "metadata": {
        "id": "fK_0WuLkPfEO"
      },
      "outputs": [],
      "source": [
        "# libraries\n",
        "from pandas import DataFrame\n",
        "import pandas as pd\n",
        "import numpy as np\n"
      ]
    },
    {
      "cell_type": "code",
      "source": [
        "# koneksi ke google drive\n",
        "from google.colab import drive\n",
        "drive.mount('/content/drive')"
      ],
      "metadata": {
        "id": "Er4oU_jNWtfA",
        "colab": {
          "base_uri": "https://localhost:8080/"
        },
        "outputId": "4bb567ac-2ef6-4e66-ca6b-d33b3546f928"
      },
      "execution_count": null,
      "outputs": [
        {
          "output_type": "stream",
          "name": "stdout",
          "text": [
            "Drive already mounted at /content/drive; to attempt to forcibly remount, call drive.mount(\"/content/drive\", force_remount=True).\n"
          ]
        }
      ]
    },
    {
      "cell_type": "code",
      "source": [
        "# baca file dataset\n",
        "df = pd.read_csv(\"drive/MyDrive/Machine Learning/Kredit_ku.csv\")\n",
        "print(df)\n",
        "df.info()"
      ],
      "metadata": {
        "id": "1jvYCq--Rko9",
        "colab": {
          "base_uri": "https://localhost:8080/"
        },
        "outputId": "c9f8f618-8eba-48e2-a236-d14235a971d7"
      },
      "execution_count": null,
      "outputs": [
        {
          "output_type": "stream",
          "name": "stdout",
          "text": [
            "     Durasi Riwayat_kredit Tujuan  Jum_kredit Savings Masa_kerja Pekerjaan  \\\n",
            "0         6            A34    A43        1169     A65        A75      A173   \n",
            "1        48            A32    A43        5951     A61        A73      A173   \n",
            "2        12            A34    A46        2096     A61        A74      A172   \n",
            "3        42            A32    A42        7882     A61        A74      A173   \n",
            "4        24            A33    A40        4870     A61        A73      A173   \n",
            "..      ...            ...    ...         ...     ...        ...       ...   \n",
            "144      21            A34    A42        2288     A61        A72      A173   \n",
            "145      48            A31    A49        3566     A62        A74      A173   \n",
            "146       6            A34    A40         860     A61        A75      A173   \n",
            "147      12            A34    A40         682     A62        A74      A173   \n",
            "148      36            A34    A42        5371     A61        A73      A173   \n",
            "\n",
            "     Jum_tanggungan  creditScore  \n",
            "0                 1            1  \n",
            "1                 1            2  \n",
            "2                 2            1  \n",
            "3                 2            1  \n",
            "4                 2            2  \n",
            "..              ...          ...  \n",
            "144               1            1  \n",
            "145               1            1  \n",
            "146               1            1  \n",
            "147               1            1  \n",
            "148               1            1  \n",
            "\n",
            "[149 rows x 9 columns]\n",
            "<class 'pandas.core.frame.DataFrame'>\n",
            "RangeIndex: 149 entries, 0 to 148\n",
            "Data columns (total 9 columns):\n",
            " #   Column          Non-Null Count  Dtype \n",
            "---  ------          --------------  ----- \n",
            " 0   Durasi          149 non-null    int64 \n",
            " 1   Riwayat_kredit  149 non-null    object\n",
            " 2   Tujuan          149 non-null    object\n",
            " 3   Jum_kredit      149 non-null    int64 \n",
            " 4   Savings         149 non-null    object\n",
            " 5   Masa_kerja      149 non-null    object\n",
            " 6   Pekerjaan       149 non-null    object\n",
            " 7   Jum_tanggungan  149 non-null    int64 \n",
            " 8   creditScore     149 non-null    int64 \n",
            "dtypes: int64(4), object(5)\n",
            "memory usage: 10.6+ KB\n"
          ]
        }
      ]
    },
    {
      "cell_type": "markdown",
      "source": [
        "cek missing value"
      ],
      "metadata": {
        "id": "jJMvae9XR0tZ"
      }
    },
    {
      "cell_type": "code",
      "source": [
        "creditScore_index = ['creditScore']\n",
        "creditScore_df = df [['creditScore']]\n",
        "creditScore_df.info()\n",
        "#cek adakah missing value, true = ada , false = tidak ada\n",
        "creditScore_df.isnull().values.any()\n",
        "creditScore_df.isnull().sum()"
      ],
      "metadata": {
        "id": "gIqZ-TYDR22r",
        "colab": {
          "base_uri": "https://localhost:8080/"
        },
        "outputId": "78c48b9c-f5b9-4a8b-bb57-0f290fec41b8"
      },
      "execution_count": null,
      "outputs": [
        {
          "output_type": "stream",
          "name": "stdout",
          "text": [
            "<class 'pandas.core.frame.DataFrame'>\n",
            "RangeIndex: 149 entries, 0 to 148\n",
            "Data columns (total 1 columns):\n",
            " #   Column       Non-Null Count  Dtype\n",
            "---  ------       --------------  -----\n",
            " 0   creditScore  149 non-null    int64\n",
            "dtypes: int64(1)\n",
            "memory usage: 1.3 KB\n"
          ]
        },
        {
          "output_type": "execute_result",
          "data": {
            "text/plain": [
              "creditScore    0\n",
              "dtype: int64"
            ]
          },
          "metadata": {},
          "execution_count": 4
        }
      ]
    },
    {
      "cell_type": "markdown",
      "source": [
        "menghitung komposisi data pada atribut dependent creditScore"
      ],
      "metadata": {
        "id": "pedJ3ADfZ9aR"
      }
    },
    {
      "cell_type": "code",
      "source": [
        "df.creditScore.value_counts()"
      ],
      "metadata": {
        "id": "NoBDyHtoaEal",
        "colab": {
          "base_uri": "https://localhost:8080/"
        },
        "outputId": "ec92a7d0-2de7-4907-e69e-66f715e9a7ed"
      },
      "execution_count": null,
      "outputs": [
        {
          "output_type": "execute_result",
          "data": {
            "text/plain": [
              "1    112\n",
              "2     37\n",
              "Name: creditScore, dtype: int64"
            ]
          },
          "metadata": {},
          "execution_count": 5
        }
      ]
    },
    {
      "cell_type": "markdown",
      "source": [
        "Mengetahui informasi dan ukuran atribut independen"
      ],
      "metadata": {
        "id": "PsodCfVtdRZF"
      }
    },
    {
      "cell_type": "code",
      "source": [
        "df_attribute = df.drop(creditScore_df, axis = 1)\n",
        "df_attribute.info()\n",
        "df_attribute.shape"
      ],
      "metadata": {
        "id": "xAXTzWK2dlJY",
        "colab": {
          "base_uri": "https://localhost:8080/"
        },
        "outputId": "bfdc56db-3cf0-4d6c-d80d-d2b0672ef4da"
      },
      "execution_count": null,
      "outputs": [
        {
          "output_type": "stream",
          "name": "stdout",
          "text": [
            "<class 'pandas.core.frame.DataFrame'>\n",
            "RangeIndex: 149 entries, 0 to 148\n",
            "Data columns (total 8 columns):\n",
            " #   Column          Non-Null Count  Dtype \n",
            "---  ------          --------------  ----- \n",
            " 0   Durasi          149 non-null    int64 \n",
            " 1   Riwayat_kredit  149 non-null    object\n",
            " 2   Tujuan          149 non-null    object\n",
            " 3   Jum_kredit      149 non-null    int64 \n",
            " 4   Savings         149 non-null    object\n",
            " 5   Masa_kerja      149 non-null    object\n",
            " 6   Pekerjaan       149 non-null    object\n",
            " 7   Jum_tanggungan  149 non-null    int64 \n",
            "dtypes: int64(3), object(5)\n",
            "memory usage: 9.4+ KB\n"
          ]
        },
        {
          "output_type": "execute_result",
          "data": {
            "text/plain": [
              "(149, 8)"
            ]
          },
          "metadata": {},
          "execution_count": 6
        }
      ]
    },
    {
      "cell_type": "markdown",
      "source": [
        "Mengetahui missing value atribut independen"
      ],
      "metadata": {
        "id": "8djqK-SMdyXA"
      }
    },
    {
      "cell_type": "code",
      "source": [
        "# cek adakah missing value\n",
        "df_attribute.isnull().values.any()\n",
        "df_attribute.isnull().sum()"
      ],
      "metadata": {
        "id": "vzNCFWi3d3VN",
        "colab": {
          "base_uri": "https://localhost:8080/"
        },
        "outputId": "6f4a49a7-689f-46b2-cfdf-a082644b1dcf"
      },
      "execution_count": null,
      "outputs": [
        {
          "output_type": "execute_result",
          "data": {
            "text/plain": [
              "Durasi            0\n",
              "Riwayat_kredit    0\n",
              "Tujuan            0\n",
              "Jum_kredit        0\n",
              "Savings           0\n",
              "Masa_kerja        0\n",
              "Pekerjaan         0\n",
              "Jum_tanggungan    0\n",
              "dtype: int64"
            ]
          },
          "metadata": {},
          "execution_count": 7
        }
      ]
    },
    {
      "cell_type": "markdown",
      "source": [
        "Mengetahui atribut yang bertipe kategori"
      ],
      "metadata": {
        "id": "CLGWuCvqeFVh"
      }
    },
    {
      "cell_type": "code",
      "source": [
        "kategori_df = df.select_dtypes(include=['object'])\n",
        "kategori_df.info()"
      ],
      "metadata": {
        "id": "uA5h8W-aeJ0G",
        "colab": {
          "base_uri": "https://localhost:8080/"
        },
        "outputId": "8677f31c-e569-45b3-9bcb-1a5e4d5aafa1"
      },
      "execution_count": null,
      "outputs": [
        {
          "output_type": "stream",
          "name": "stdout",
          "text": [
            "<class 'pandas.core.frame.DataFrame'>\n",
            "RangeIndex: 149 entries, 0 to 148\n",
            "Data columns (total 5 columns):\n",
            " #   Column          Non-Null Count  Dtype \n",
            "---  ------          --------------  ----- \n",
            " 0   Riwayat_kredit  149 non-null    object\n",
            " 1   Tujuan          149 non-null    object\n",
            " 2   Savings         149 non-null    object\n",
            " 3   Masa_kerja      149 non-null    object\n",
            " 4   Pekerjaan       149 non-null    object\n",
            "dtypes: object(5)\n",
            "memory usage: 5.9+ KB\n"
          ]
        }
      ]
    },
    {
      "cell_type": "markdown",
      "source": [
        "mengetahui atribut yang bertipe numerik"
      ],
      "metadata": {
        "id": "cld-_APweXsM"
      }
    },
    {
      "cell_type": "code",
      "source": [
        "numerik_df = df.select_dtypes(include=['int64'])\n",
        "numerik_df.info()"
      ],
      "metadata": {
        "id": "9UHFHL0debsM",
        "colab": {
          "base_uri": "https://localhost:8080/"
        },
        "outputId": "8572f9cc-41ab-4f8a-91aa-3874edca1d9b"
      },
      "execution_count": null,
      "outputs": [
        {
          "output_type": "stream",
          "name": "stdout",
          "text": [
            "<class 'pandas.core.frame.DataFrame'>\n",
            "RangeIndex: 149 entries, 0 to 148\n",
            "Data columns (total 4 columns):\n",
            " #   Column          Non-Null Count  Dtype\n",
            "---  ------          --------------  -----\n",
            " 0   Durasi          149 non-null    int64\n",
            " 1   Jum_kredit      149 non-null    int64\n",
            " 2   Jum_tanggungan  149 non-null    int64\n",
            " 3   creditScore     149 non-null    int64\n",
            "dtypes: int64(4)\n",
            "memory usage: 4.8 KB\n"
          ]
        }
      ]
    },
    {
      "cell_type": "markdown",
      "source": [
        "Menampilkan histogram atribut bertipe numerik"
      ],
      "metadata": {
        "id": "BJSYrBwDes3m"
      }
    },
    {
      "cell_type": "code",
      "source": [
        "numerik_index = numerik_df.columns\n",
        "numerik_index"
      ],
      "metadata": {
        "id": "w5aA6XLzeyEe",
        "colab": {
          "base_uri": "https://localhost:8080/"
        },
        "outputId": "952045e1-e103-4979-e29e-06d04610c68a"
      },
      "execution_count": null,
      "outputs": [
        {
          "output_type": "execute_result",
          "data": {
            "text/plain": [
              "Index(['Durasi', 'Jum_kredit', 'Jum_tanggungan', 'creditScore'], dtype='object')"
            ]
          },
          "metadata": {},
          "execution_count": 10
        }
      ]
    },
    {
      "cell_type": "code",
      "source": [
        "# menampilkan histogram untuk atribut numerik\n",
        "import matplotlib\n",
        "import matplotlib.pyplot as plt\n",
        "df.hist(column=numerik_index, figsize=(10,20), layout=(7,1))\n",
        "plt.show()"
      ],
      "metadata": {
        "id": "c94P6JWJfEI4",
        "colab": {
          "base_uri": "https://localhost:8080/",
          "height": 669
        },
        "outputId": "df0e350b-37db-4da1-981d-727633fd1104"
      },
      "execution_count": null,
      "outputs": [
        {
          "output_type": "display_data",
          "data": {
            "text/plain": [
              "<Figure size 720x1440 with 7 Axes>"
            ],
            "image/png": "[encoded data removed]"
          },
          "metadata": {
            "needs_background": "light"
          }
        }
      ]
    },
    {
      "cell_type": "markdown",
      "source": [
        "menampilkan boxplot"
      ],
      "metadata": {
        "id": "UZb4uzStfgkD"
      }
    },
    {
      "cell_type": "code",
      "source": [
        "import seaborn as sns\n",
        "#uji antara dependent dengan umur\n",
        "fig = plt.figure(figsize=(10,10))\n",
        "sns.boxplot(x=\"creditScore\", y=\"Durasi\", data=df)\n",
        "plt.show"
      ],
      "metadata": {
        "id": "b8OCnaI5fit1",
        "colab": {
          "base_uri": "https://localhost:8080/",
          "height": 623
        },
        "outputId": "ad7708e3-045b-4908-c7ef-3656a96e0aff"
      },
      "execution_count": null,
      "outputs": [
        {
          "output_type": "execute_result",
          "data": {
            "text/plain": [
              "<function matplotlib.pyplot.show(close=None, block=None)>"
            ]
          },
          "metadata": {},
          "execution_count": 13
        },
        {
          "output_type": "display_data",
          "data": {
            "text/plain": [
              "<Figure size 720x720 with 1 Axes>"
            ],
            "image/png": "[encoded data removed]"
          },
          "metadata": {
            "needs_background": "light"
          }
        }
      ]
    },
    {
      "cell_type": "markdown",
      "source": [
        "Melakukan uji hipotesis atribut numerik independen vs atribut dependen"
      ],
      "metadata": {
        "id": "eB-ouHjDv6Tx"
      }
    },
    {
      "cell_type": "code",
      "source": [
        "#uji hipotesis\n",
        "# karena Ho diterima, atribut Durasi terbukti tidak memiliki kontribusi untuk melakukan klasifikasi\n",
        "import random\n",
        "from scipy.stats import ttest_ind, ttest_rel\n",
        "from scipy import stats\n",
        "\n",
        "df = df[(np.abs(stats.zscore(df[\"Durasi\"])) < 3)]\n",
        "\n",
        "income_1 = df[df['creditScore']==1]['Durasi']\n",
        "income_0 = df[df['creditScore']==2]['Durasi']\n",
        "\n",
        "income_0 = income_0.values.tolist()\n",
        "income_0 = random.sample(income_0, 10)\n",
        "income_1 = income_1.values.tolist()\n",
        "income_1 = random.sample(income_1, 10)\n",
        "\n",
        "ttest,pval = ttest_ind(income_1,income_0,equal_var = False)\n",
        "print(\"ttest\", ttest)\n",
        "print('p value',pval)\n",
        "\n",
        "if pval <0.05:\n",
        "  print(\"Ho ditolak\")\n",
        "else:\n",
        "  print(\"Ho diterima\")"
      ],
      "metadata": {
        "colab": {
          "base_uri": "https://localhost:8080/"
        },
        "id": "Yn0biTFYwEA4",
        "outputId": "8410941e-a387-47c2-8070-79c0bba0274f"
      },
      "execution_count": null,
      "outputs": [
        {
          "output_type": "stream",
          "name": "stdout",
          "text": [
            "ttest -1.878580382889632\n",
            "p value 0.07733301013264882\n",
            "Ho diterima\n"
          ]
        }
      ]
    },
    {
      "cell_type": "code",
      "source": [
        "# uji hipotesis\n",
        "import random\n",
        "from scipy.stats import ttest_ind, ttest_rel\n",
        "from scipy import stats\n",
        "\n",
        "df = df[(np.abs(stats.zscore(df[\"Jum_kredit\"])) < 3)]\n",
        "\n",
        "income_1 = df[df['creditScore']==1]['Jum_kredit']\n",
        "income_0 = df[df['creditScore']==2]['Jum_kredit']\n",
        "\n",
        "income_0 = income_0.values.tolist()\n",
        "income_0 = random.sample(income_0, 10)\n",
        "income_1 = income_1.values.tolist()\n",
        "income_1 = random.sample(income_1, 10)\n",
        "\n",
        "ttest,pval = ttest_ind(income_1,income_0,equal_var = False)\n",
        "print(\"ttest\", ttest)\n",
        "print('p value',pval)\n",
        "\n",
        "if pval <0.05:\n",
        "  print(\"Ho ditolak\")\n",
        "else:\n",
        "  print(\"Ho diterima\")"
      ],
      "metadata": {
        "colab": {
          "base_uri": "https://localhost:8080/"
        },
        "id": "WeO40uiVzU7e",
        "outputId": "c5f770a5-39b4-4240-ece4-f653ddc0e046"
      },
      "execution_count": null,
      "outputs": [
        {
          "output_type": "stream",
          "name": "stdout",
          "text": [
            "ttest -2.522922606232705\n",
            "p value 0.025480813858256138\n",
            "Ho ditolak\n"
          ]
        }
      ]
    },
    {
      "cell_type": "code",
      "source": [
        "# uji hipotesis\n",
        "import random\n",
        "from scipy.stats import ttest_ind, ttest_rel\n",
        "from scipy import stats\n",
        "\n",
        "df = df[(np.abs(stats.zscore(df[\"Jum_tanggungan\"])) < 3)]\n",
        "\n",
        "income_1 = df[df['creditScore']==1]['Jum_tanggungan']\n",
        "income_0 = df[df['creditScore']==2]['Jum_tanggungan']\n",
        "\n",
        "income_0 = income_0.values.tolist()\n",
        "income_0 = random.sample(income_0, 10)\n",
        "income_1 = income_1.values.tolist()\n",
        "income_1 = random.sample(income_1, 10)\n",
        "\n",
        "ttest,pval = ttest_ind(income_1,income_0,equal_var = False)\n",
        "print(\"ttest\", ttest)\n",
        "print('p value',pval)\n",
        "\n",
        "if pval <0.05:\n",
        "  print(\"Ho ditolak\")\n",
        "else:\n",
        "  print(\"Ho diterima\")"
      ],
      "metadata": {
        "colab": {
          "base_uri": "https://localhost:8080/"
        },
        "id": "2uUbAPoGztw8",
        "outputId": "5e3c35bd-5c0d-48a5-87fa-88692c9555ac"
      },
      "execution_count": null,
      "outputs": [
        {
          "output_type": "stream",
          "name": "stdout",
          "text": [
            "ttest -1.0000000000000009\n",
            "p value 0.34343639613791305\n",
            "Ho diterima\n"
          ]
        },
        {
          "output_type": "stream",
          "name": "stderr",
          "text": [
            "<ipython-input-16-bb59c415f3d5>:16: RuntimeWarning: Precision loss occurred in moment calculation due to catastrophic cancellation. This occurs when the data are nearly identical. Results may be unreliable.\n",
            "  ttest,pval = ttest_ind(income_1,income_0,equal_var = False)\n"
          ]
        }
      ]
    },
    {
      "cell_type": "markdown",
      "source": [
        "Melakukan uji hipotesis atribut kategori independen vs atribut dependen"
      ],
      "metadata": {
        "id": "09ea9k9C0EL5"
      }
    },
    {
      "cell_type": "markdown",
      "source": [
        "**UJI ATRIBUT KATEGORIK**"
      ],
      "metadata": {
        "id": "ny8RC28P0hOA"
      }
    },
    {
      "cell_type": "code",
      "source": [
        "def bar_chart(feature):\n",
        "  Accepted = df[df['creditScore']==1][feature].value_counts()\n",
        "  Rejected = df[df['creditScore']==2][feature].value_counts()\n",
        "  df1 = pd.DataFrame([ Accepted, Rejected])\n",
        "  df1.index=['Accepted','Rejected']\n",
        "  df1.plot(kind='bar',stacked=True,fig=(18,6),title=feature)"
      ],
      "metadata": {
        "id": "PX32uB4d0nvR"
      },
      "execution_count": null,
      "outputs": []
    },
    {
      "cell_type": "code",
      "source": [
        "bar_chart('Riwayat_kredit')"
      ],
      "metadata": {
        "colab": {
          "base_uri": "https://localhost:8080/",
          "height": 318
        },
        "id": "aBvp-EJG1j7f",
        "outputId": "84a0a8e8-9715-437b-9925-0d0ef5a58c2e"
      },
      "execution_count": null,
      "outputs": [
        {
          "output_type": "display_data",
          "data": {
            "text/plain": [
              "<Figure size 432x288 with 1 Axes>"
            ],
            "image/png": "[encoded data removed]"
          },
          "metadata": {
            "needs_background": "light"
          }
        }
      ]
    },
    {
      "cell_type": "markdown",
      "source": [
        "Menampilkan tabel kontingensi"
      ],
      "metadata": {
        "id": "o8yOsWKN2FXY"
      }
    },
    {
      "cell_type": "code",
      "source": [
        "# contingency table\n",
        "c_t = pd.crosstab(df['Riwayat_kredit'], df['creditScore'], margins= False)\n",
        "c_t"
      ],
      "metadata": {
        "colab": {
          "base_uri": "https://localhost:8080/",
          "height": 238
        },
        "id": "0NHrOyzH2YLf",
        "outputId": "6303c0c1-2459-4406-9f05-9144713670d0"
      },
      "execution_count": null,
      "outputs": [
        {
          "output_type": "execute_result",
          "data": {
            "text/plain": [
              "creditScore      1   2\n",
              "Riwayat_kredit        \n",
              "A30              3   2\n",
              "A31              3   1\n",
              "A32             59  17\n",
              "A33              8   4\n",
              "A34             39  10"
            ],
            "text/html": [
              "\n",
              "  <div id=\"df-f7ca59f4-d904-4207-838f-d27acc192fb3\">\n",
              "    <div class=\"colab-df-container\">\n",
              "      <div>\n",
              "<style scoped>\n",
              "    .dataframe tbody tr th:only-of-type {\n",
              "        vertical-align: middle;\n",
              "    }\n",
              "\n",
              "    .dataframe tbody tr th {\n",
              "        vertical-align: top;\n",
              "    }\n",
              "\n",
              "    .dataframe thead th {\n",
              "        text-align: right;\n",
              "    }\n",
              "</style>\n",
              "<table border=\"1\" class=\"dataframe\">\n",
              "  <thead>\n",
              "    <tr style=\"text-align: right;\">\n",
              "      <th>creditScore</th>\n",
              "      <th>1</th>\n",
              "      <th>2</th>\n",
              "    </tr>\n",
              "    <tr>\n",
              "      <th>Riwayat_kredit</th>\n",
              "      <th></th>\n",
              "      <th></th>\n",
              "    </tr>\n",
              "  </thead>\n",
              "  <tbody>\n",
              "    <tr>\n",
              "      <th>A30</th>\n",
              "      <td>3</td>\n",
              "      <td>2</td>\n",
              "    </tr>\n",
              "    <tr>\n",
              "      <th>A31</th>\n",
              "      <td>3</td>\n",
              "      <td>1</td>\n",
              "    </tr>\n",
              "    <tr>\n",
              "      <th>A32</th>\n",
              "      <td>59</td>\n",
              "      <td>17</td>\n",
              "    </tr>\n",
              "    <tr>\n",
              "      <th>A33</th>\n",
              "      <td>8</td>\n",
              "      <td>4</td>\n",
              "    </tr>\n",
              "    <tr>\n",
              "      <th>A34</th>\n",
              "      <td>39</td>\n",
              "      <td>10</td>\n",
              "    </tr>\n",
              "  </tbody>\n",
              "</table>\n",
              "</div>\n",
              "      <button class=\"colab-df-convert\" onclick=\"convertToInteractive('df-f7ca59f4-d904-4207-838f-d27acc192fb3')\"\n",
              "              title=\"Convert this dataframe to an interactive table.\"\n",
              "              style=\"display:none;\">\n",
              "        \n",
              "  <svg xmlns=\"http://www.w3.org/2000/svg\" height=\"24px\"viewBox=\"0 0 24 24\"\n",
              "       width=\"24px\">\n",
              "    <path d=\"M0 0h24v24H0V0z\" fill=\"none\"/>\n",
              "    <path d=\"M18.56 5.44l.94 2.06.94-2.06 2.06-.94-2.06-.94-.94-2.06-.94 2.06-2.06.94zm-11 1L8.5 8.5l.94-2.06 2.06-.94-2.06-.94L8.5 2.5l-.94 2.06-2.06.94zm10 10l.94 2.06.94-2.06 2.06-.94-2.06-.94-.94-2.06-.94 2.06-2.06.94z\"/><path d=\"M17.41 7.96l-1.37-1.37c-.4-.4-.92-.59-1.43-.59-.52 0-1.04.2-1.43.59L10.3 9.45l-7.72 7.72c-.78.78-.78 2.05 0 2.83L4 21.41c.39.39.9.59 1.41.59.51 0 1.02-.2 1.41-.59l7.78-7.78 2.81-2.81c.8-.78.8-2.07 0-2.86zM5.41 20L4 18.59l7.72-7.72 1.47 1.35L5.41 20z\"/>\n",
              "  </svg>\n",
              "      </button>\n",
              "      \n",
              "  <style>\n",
              "    .colab-df-container {\n",
              "      display:flex;\n",
              "      flex-wrap:wrap;\n",
              "      gap: 12px;\n",
              "    }\n",
              "\n",
              "    .colab-df-convert {\n",
              "      background-color: #E8F0FE;\n",
              "      border: none;\n",
              "      border-radius: 50%;\n",
              "      cursor: pointer;\n",
              "      display: none;\n",
              "      fill: #1967D2;\n",
              "      height: 32px;\n",
              "      padding: 0 0 0 0;\n",
              "      width: 32px;\n",
              "    }\n",
              "\n",
              "    .colab-df-convert:hover {\n",
              "      background-color: #E2EBFA;\n",
              "      box-shadow: 0px 1px 2px rgba(60, 64, 67, 0.3), 0px 1px 3px 1px rgba(60, 64, 67, 0.15);\n",
              "      fill: #174EA6;\n",
              "    }\n",
              "\n",
              "    [theme=dark] .colab-df-convert {\n",
              "      background-color: #3B4455;\n",
              "      fill: #D2E3FC;\n",
              "    }\n",
              "\n",
              "    [theme=dark] .colab-df-convert:hover {\n",
              "      background-color: #434B5C;\n",
              "      box-shadow: 0px 1px 3px 1px rgba(0, 0, 0, 0.15);\n",
              "      filter: drop-shadow(0px 1px 2px rgba(0, 0, 0, 0.3));\n",
              "      fill: #FFFFFF;\n",
              "    }\n",
              "  </style>\n",
              "\n",
              "      <script>\n",
              "        const buttonEl =\n",
              "          document.querySelector('#df-f7ca59f4-d904-4207-838f-d27acc192fb3 button.colab-df-convert');\n",
              "        buttonEl.style.display =\n",
              "          google.colab.kernel.accessAllowed ? 'block' : 'none';\n",
              "\n",
              "        async function convertToInteractive(key) {\n",
              "          const element = document.querySelector('#df-f7ca59f4-d904-4207-838f-d27acc192fb3');\n",
              "          const dataTable =\n",
              "            await google.colab.kernel.invokeFunction('convertToInteractive',\n",
              "                                                     [key], {});\n",
              "          if (!dataTable) return;\n",
              "\n",
              "          const docLinkHtml = 'Like what you see? Visit the ' +\n",
              "            '<a target=\"_blank\" href=https://colab.research.google.com/notebooks/data_table.ipynb>data table notebook</a>'\n",
              "            + ' to learn more about interactive tables.';\n",
              "          element.innerHTML = '';\n",
              "          dataTable['output_type'] = 'display_data';\n",
              "          await google.colab.output.renderOutput(dataTable, element);\n",
              "          const docLink = document.createElement('div');\n",
              "          docLink.innerHTML = docLinkHtml;\n",
              "          element.appendChild(docLink);\n",
              "        }\n",
              "      </script>\n",
              "    </div>\n",
              "  </div>\n",
              "  "
            ]
          },
          "metadata": {},
          "execution_count": 21
        }
      ]
    },
    {
      "cell_type": "code",
      "source": [
        "from scipy.stats import chi2_contingency\n",
        "from scipy.stats import chi2\n",
        "\n",
        "stat, p, dof, expected = chi2_contingency(c_t)\n",
        "print('dof=%d' % dof)\n",
        "print('p_value', p)\n",
        "print(expected)\n",
        "\n",
        "# interpret test-statistic\n",
        "prob = 0.99\n",
        "critical = chi2.ppf(prob, dof)\n",
        "print('probabilitas=%.3f, critical=%.3f, stat=%.3f' %(prob, critical, stat))\n",
        "if abs(stat) >= critical:\n",
        "  print('Dependent (tolak H0)')\n",
        "else:\n",
        "  print('Independent (terima H0)')"
      ],
      "metadata": {
        "colab": {
          "base_uri": "https://localhost:8080/"
        },
        "id": "Am-gyntM3WvN",
        "outputId": "fbd4d463-ffcf-4592-bba8-88c8aa69a244"
      },
      "execution_count": null,
      "outputs": [
        {
          "output_type": "stream",
          "name": "stdout",
          "text": [
            "dof=0\n",
            "p_value 1.0\n",
            "[[112.  34.]]\n",
            "probabilitas=0.990, critical=nan, stat=0.000\n",
            "Independent (terima H0)\n"
          ]
        }
      ]
    },
    {
      "cell_type": "markdown",
      "source": [
        "Menampilkan Pearson correlation"
      ],
      "metadata": {
        "id": "WbtyM0ER5kBq"
      }
    },
    {
      "cell_type": "code",
      "source": [
        "#Using Pearson Correlation\n",
        "plt.figure(figsize=(12,10))\n",
        "cor = df.corr()\n",
        "sns.heatmap(cor, annot=True, cmap=plt.cm.Reds)\n",
        "plt.show()\n",
        "#correlation with output variable\n",
        "cor_target = abs(cor[\"creditScore\"])\n",
        "# selecting highly correlated features\n",
        "relevant_features = cor_target[cor_target>0.1]\n",
        "relevant_features"
      ],
      "metadata": {
        "colab": {
          "base_uri": "https://localhost:8080/",
          "height": 665
        },
        "id": "V0SSGT-X6DBI",
        "outputId": "5b5058e0-5618-4fe9-8a32-201707d02464"
      },
      "execution_count": null,
      "outputs": [
        {
          "output_type": "display_data",
          "data": {
            "text/plain": [
              "<Figure size 864x720 with 2 Axes>"
            ],
            "image/png": "[encoded data removed]"
          },
          "metadata": {
            "needs_background": "light"
          }
        },
        {
          "output_type": "execute_result",
          "data": {
            "text/plain": [
              "Durasi         0.308726\n",
              "Jum_kredit     0.196635\n",
              "creditScore    1.000000\n",
              "Name: creditScore, dtype: float64"
            ]
          },
          "metadata": {},
          "execution_count": 27
        }
      ]
    }
  ]
}