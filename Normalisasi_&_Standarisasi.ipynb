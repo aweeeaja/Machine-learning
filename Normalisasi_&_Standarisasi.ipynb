{
  "nbformat": 4,
  "nbformat_minor": 0,
  "metadata": {
    "colab": {
      "provenance": [],
      "mount_file_id": "10TJ8jdagfpTQDbAPVUPUiwZurbS4vunX",
      "authorship_tag": "ABX9TyPf60ufONAbZOyCYuf9D3ja",
      "include_colab_link": true
    },
    "kernelspec": {
      "name": "python3",
      "display_name": "Python 3"
    },
    "language_info": {
      "name": "python"
    }
  },
  "cells": [
    {
      "cell_type": "markdown",
      "metadata": {
        "id": "view-in-github",
        "colab_type": "text"
      },
      "source": [
        "<a href=\"https://colab.research.google.com/github/aweeeaja/Machine-learning/blob/main/Normalisasi_%26_Standarisasi.ipynb\" target=\"_parent\"><img src=\"https://colab.research.google.com/assets/colab-badge.svg\" alt=\"Open In Colab\"/></a>"
      ]
    },
    {
      "cell_type": "code",
      "execution_count": null,
      "metadata": {
        "colab": {
          "base_uri": "https://localhost:8080/"
        },
        "id": "dXzexB5JNKDW",
        "outputId": "cc79eea7-52f6-4a32-d8fb-862e97b34136"
      },
      "outputs": [
        {
          "output_type": "stream",
          "name": "stdout",
          "text": [
            "   Unnamed: 0  KodeApt  Wilayah  St_Milik  Jum_Kamar\n",
            "0           0    104.0        0         1        3.0\n",
            "1           1    197.0        2         0        3.0\n",
            "2           2   8837.0        2         0        3.0\n",
            "3           3    201.0        3         0        1.0\n",
            "4           4    203.0        3         1        3.0\n",
            "5           5    207.0        3         1        3.0\n",
            "6           6    837.0        1         1        2.0\n",
            "7           7    213.0        0         1        3.0\n",
            "8           8    215.0        0         1        3.0\n"
          ]
        }
      ],
      "source": [
        "from sklearn.preprocessing import MinMaxScaler\n",
        "from sklearn.preprocessing import LabelEncoder\n",
        "from sklearn.preprocessing import StandardScaler\n",
        "from pandas import DataFrame\n",
        "import pandas as pd\n",
        "import numpy as np\n",
        "\n",
        "# koneksi ke google drive\n",
        "from google.colab import drive\n",
        "drive.mount('/content/drive')\n",
        "\n",
        "#baca file data set\n",
        "df = pd.read_csv(\"drive/MyDrive/Machine Learning/apartemen_numeric.csv\")\n",
        "print(df)"
      ]
    },
    {
      "cell_type": "code",
      "source": [
        "# menampilkan statistik deskriptif\n",
        "print(df.describe())"
      ],
      "metadata": {
        "colab": {
          "base_uri": "https://localhost:8080/"
        },
        "id": "23U-kbERN_LQ",
        "outputId": "06773097-e30a-406c-de30-46b1f1edfa9a"
      },
      "execution_count": null,
      "outputs": [
        {
          "output_type": "stream",
          "name": "stdout",
          "text": [
            "       Unnamed: 0      KodeApt   Wilayah  St_Milik  Jum_Kamar\n",
            "count    9.000000     9.000000  9.000000  9.000000   9.000000\n",
            "mean     4.000000  1223.777778  1.555556  0.666667   2.666667\n",
            "std      2.738613  2863.130445  1.333333  0.500000   0.707107\n",
            "min      0.000000   104.000000  0.000000  0.000000   1.000000\n",
            "25%      2.000000   201.000000  0.000000  0.000000   3.000000\n",
            "50%      4.000000   207.000000  2.000000  1.000000   3.000000\n",
            "75%      6.000000   215.000000  3.000000  1.000000   3.000000\n",
            "max      8.000000  8837.000000  3.000000  1.000000   3.000000\n"
          ]
        }
      ]
    },
    {
      "cell_type": "code",
      "source": [
        "# mengganti pada lokasi spesifik\n",
        "df.loc[2,'Jum_Kamar'] = 100\n",
        "print(df)\n",
        "print(df.shape)\n",
        "print(df.Jum_Kamar)"
      ],
      "metadata": {
        "colab": {
          "base_uri": "https://localhost:8080/"
        },
        "id": "DDi6jr1bOLBC",
        "outputId": "75ceb85e-9fca-493b-976c-5be6057772eb"
      },
      "execution_count": null,
      "outputs": [
        {
          "output_type": "stream",
          "name": "stdout",
          "text": [
            "   Unnamed: 0  KodeApt  Wilayah  St_Milik  Jum_Kamar\n",
            "0           0    104.0        0         1        3.0\n",
            "1           1    197.0        2         0        3.0\n",
            "2           2   8837.0        2         0      100.0\n",
            "3           3    201.0        3         0        1.0\n",
            "4           4    203.0        3         1        3.0\n",
            "5           5    207.0        3         1        3.0\n",
            "6           6    837.0        1         1        2.0\n",
            "7           7    213.0        0         1        3.0\n",
            "8           8    215.0        0         1        3.0\n",
            "(9, 5)\n",
            "0      3.0\n",
            "1      3.0\n",
            "2    100.0\n",
            "3      1.0\n",
            "4      3.0\n",
            "5      3.0\n",
            "6      2.0\n",
            "7      3.0\n",
            "8      3.0\n",
            "Name: Jum_Kamar, dtype: float64\n"
          ]
        }
      ]
    },
    {
      "cell_type": "code",
      "source": [
        "# normalisation\n",
        "fitur_minmax = df.copy()\n",
        "Kol_minmax = ['Jum_Kamar']\n",
        "features = fitur_minmax[Kol_minmax]\n",
        "min_max=MinMaxScaler()\n",
        "Kamar_minmax=min_max.fit_transform(features.values)"
      ],
      "metadata": {
        "id": "s32Mo14AOeHp"
      },
      "execution_count": null,
      "outputs": []
    },
    {
      "cell_type": "code",
      "source": [
        "print(Kamar_minmax)"
      ],
      "metadata": {
        "colab": {
          "base_uri": "https://localhost:8080/"
        },
        "id": "XkkLJBp_O7FV",
        "outputId": "06d57b84-0c88-43d9-e314-0d86a0256a05"
      },
      "execution_count": null,
      "outputs": [
        {
          "output_type": "stream",
          "name": "stdout",
          "text": [
            "[[0.02020202]\n",
            " [0.02020202]\n",
            " [1.        ]\n",
            " [0.        ]\n",
            " [0.02020202]\n",
            " [0.02020202]\n",
            " [0.01010101]\n",
            " [0.02020202]\n",
            " [0.02020202]]\n"
          ]
        }
      ]
    },
    {
      "cell_type": "code",
      "source": [
        "# Standarization\n",
        "sc = StandardScaler()\n",
        "x_scaler = sc.fit_transform(features.values)\n",
        "print(x_scaler)"
      ],
      "metadata": {
        "colab": {
          "base_uri": "https://localhost:8080/"
        },
        "id": "W3rOUA98SS8e",
        "outputId": "15211e40-c661-485f-d1cb-3b02b77a5e23"
      },
      "execution_count": null,
      "outputs": [
        {
          "output_type": "stream",
          "name": "stdout",
          "text": [
            "[[-0.34122086]\n",
            " [-0.34122086]\n",
            " [ 2.82777715]\n",
            " [-0.40656103]\n",
            " [-0.34122086]\n",
            " [-0.34122086]\n",
            " [-0.37389095]\n",
            " [-0.34122086]\n",
            " [-0.34122086]]\n"
          ]
        }
      ]
    },
    {
      "cell_type": "code",
      "source": [
        "fitur_minmax[Kol_minmax] = Kamar_minmax\n",
        "print(fitur_minmax)"
      ],
      "metadata": {
        "colab": {
          "base_uri": "https://localhost:8080/"
        },
        "id": "JB62X_kQO_nF",
        "outputId": "b91d1428-b239-4c51-9616-0e378a6c60f9"
      },
      "execution_count": null,
      "outputs": [
        {
          "output_type": "stream",
          "name": "stdout",
          "text": [
            "   Unnamed: 0  KodeApt  Wilayah  St_Milik  Jum_Kamar\n",
            "0           0    104.0        0         1   0.020202\n",
            "1           1    197.0        2         0   0.020202\n",
            "2           2   8837.0        2         0   1.000000\n",
            "3           3    201.0        3         0   0.000000\n",
            "4           4    203.0        3         1   0.020202\n",
            "5           5    207.0        3         1   0.020202\n",
            "6           6    837.0        1         1   0.010101\n",
            "7           7    213.0        0         1   0.020202\n",
            "8           8    215.0        0         1   0.020202\n"
          ]
        }
      ]
    },
    {
      "cell_type": "code",
      "source": [
        "df.to_csv('drive/MyDrive/Machine Learning/Apartemen_minmax.csv', header=True, index=False)"
      ],
      "metadata": {
        "id": "NqG1FVp_Pe5S"
      },
      "execution_count": null,
      "outputs": []
    }
  ]
}