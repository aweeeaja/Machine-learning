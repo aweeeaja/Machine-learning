{
  "cells": [
    {
      "cell_type": "markdown",
      "metadata": {
        "id": "view-in-github",
        "colab_type": "text"
      },
      "source": [
        "<a href=\"https://colab.research.google.com/github/aweeeaja/Machine-learning/blob/main/Naive_Bayes_Contoh.ipynb\" target=\"_parent\"><img src=\"https://colab.research.google.com/assets/colab-badge.svg\" alt=\"Open In Colab\"/></a>"
      ]
    },
    {
      "cell_type": "code",
      "execution_count": null,
      "metadata": {
        "colab": {
          "background_save": true
        },
        "id": "8hWNDWAjKygu",
        "outputId": "64baa4c5-c779-45f2-c7f5-bebd712c6683"
      },
      "outputs": [
        {
          "name": "stdout",
          "output_type": "stream",
          "text": [
            "[2 2 1 0 0 0 1 2 2 0 2 1 1 0]\n",
            "Suhu : [1 1 1 2 0 0 0 2 0 2 2 2 1 2]\n",
            "kuliah : [0 0 1 1 1 0 1 0 1 1 1 1 1 0]\n",
            "[(2, 1), (2, 1), (1, 1), (0, 2), (0, 0), (0, 0), (1, 0), (2, 2), (2, 0), (0, 2), (2, 2), (1, 2), (1, 1), (0, 2)]\n",
            "True label : [1, 0]\n"
          ]
        }
      ],
      "source": [
        "# dataset\n",
        "cuaca = ['panas','panas','mendung','hujan','hujan','hujan','mendung','panas','panas','hujan','panas','mendung','mendung','hujan']\n",
        "kategori_suhu = ['Hot','Hot','Hot','Mild','Cool','Cool','Cool','Mild','Cool','Mild','Mild','Mild','Hot','Mild']\n",
        "kuliah = ['Tidak','Tidak','Ya','Ya','Ya','Tidak','Ya','Tidak','Ya','Ya','Ya','Ya','Ya','Tidak']\n",
        "\n",
        "# import LabelEncoder\n",
        "from sklearn import preprocessing\n",
        "# buat LabelEncoder\n",
        "le = preprocessing.LabelEncoder()\n",
        "# konversi label string ke angka\n",
        "cuaca_encoded=le.fit_transform(cuaca)\n",
        "print(cuaca_encoded)\n",
        "\n",
        "# konversi string labels ke numbers\n",
        "suhu_encoded = le.fit_transform(kategori_suhu)\n",
        "label = le.fit_transform(kuliah)\n",
        "print (\"Suhu :\",suhu_encoded)\n",
        "print (\"kuliah :\",label)\n",
        "\n",
        "# gabungkan cuaca & suhu dalam 1 list of tuples\n",
        "fitur = list(zip(cuaca_encoded,suhu_encoded))\n",
        "print(fitur)\n",
        "\n",
        "# import Gaussian Naive Bayes model\n",
        "from sklearn.naive_bayes import GaussianNB\n",
        "\n",
        "# create a Gaussian Classifier\n",
        "model = GaussianNB()\n",
        "\n",
        "# latih model menggunakan data latih\n",
        "model.fit(fitur,label)\n",
        "\n",
        "# Predict output\n",
        "predicted = model.predict([[0,2], [2,0]]) # 0: Overcast, 2:Mild\n",
        "truelabel = [1, 0]\n",
        "print(\"True label :\", truelabel)"
      ]
    }
  ],
  "metadata": {
    "colab": {
      "provenance": [],
      "authorship_tag": "ABX9TyNBDrp2uAwox9lBGigJuGy3",
      "include_colab_link": true
    },
    "kernelspec": {
      "display_name": "Python 3",
      "name": "python3"
    },
    "language_info": {
      "name": "python"
    }
  },
  "nbformat": 4,
  "nbformat_minor": 0
}